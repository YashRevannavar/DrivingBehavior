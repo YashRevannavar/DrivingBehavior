{
 "cells": [
  {
   "attachments": {},
   "cell_type": "markdown",
   "metadata": {},
   "source": [
    "# Driving Behavior Modeling"
   ]
  },
  {
   "attachments": {},
   "cell_type": "markdown",
   "metadata": {},
   "source": [
    "## Dependences"
   ]
  },
  {
   "cell_type": "code",
   "execution_count": 2,
   "metadata": {},
   "outputs": [],
   "source": [
    "# %reset \n",
    "import pandas as pd\n",
    "import matplotlib.pyplot as plt\n",
    "import seaborn as sns\n",
    "from sklearn.model_selection import cross_val_score \n",
    "from sklearn.model_selection import train_test_split\n",
    "from sklearn.preprocessing import LabelEncoder\n",
    "from sklearn import metrics\n",
    "from sklearn.svm import SVC\n",
    "from sklearn.tree import DecisionTreeClassifier\n",
    "from sklearn.ensemble import RandomForestClassifier\n",
    "from scipy import stats\n",
    "\n",
    "import warnings\n",
    "warnings.filterwarnings('ignore')"
   ]
  },
  {
   "attachments": {},
   "cell_type": "markdown",
   "metadata": {},
   "source": [
    "## Importing data"
   ]
  },
  {
   "cell_type": "code",
   "execution_count": 3,
   "metadata": {},
   "outputs": [],
   "source": [
    "A38 = pd.read_csv(r\"../data/inputData/aggressive_0038.csv\")\n",
    "A38 = A38.drop(['Unnamed: 0'],axis=1)\n",
    "A39 = pd.read_csv(r\"../data/inputData/aggressive_0039.csv\")\n",
    "A39 = A39.drop(['Unnamed: 0'],axis=1)\n",
    "A40 = pd.read_csv(r\"../data/inputData/aggressive_0040.csv\")\n",
    "A40 = A40.drop(['Unnamed: 0'],axis=1)\n",
    "A41 = pd.read_csv(r\"../data/inputData/aggressive_0041.csv\")\n",
    "A41 = A41.drop(['Unnamed: 0'],axis=1)\n",
    "A42 = pd.read_csv(r\"../data/inputData/aggressive_0042.csv\")\n",
    "A42 = A42.drop(['Unnamed: 0'],axis=1)\n",
    "A43 = pd.read_csv(r\"../data/inputData/aggressive_0043.csv\")\n",
    "A43 = A43.drop(['Unnamed: 0'],axis=1)\n",
    "A44 = pd.read_csv(r\"../data/inputData/aggressive_0044.csv\")\n",
    "A44 = A44.drop(['Unnamed: 0'],axis=1)\n",
    "A45 = pd.read_csv(r\"../data/inputData/aggressive_0045.csv\")\n",
    "A45 = A45.drop(['Unnamed: 0'],axis=1)\n",
    "A46 = pd.read_csv(r\"../data/inputData/aggressive_0046.csv\")\n",
    "A46 = A46.drop(['Unnamed: 0'],axis=1)\n",
    "A47 = pd.read_csv(r\"../data/inputData/aggressive_0047.csv\")\n",
    "A47 = A47.drop(['Unnamed: 0'],axis=1)\n",
    "\n",
    "C16 = pd.read_csv(r\"../data/inputData/calm_0016.csv\")\n",
    "C16 = C16.drop(['Unnamed: 0'],axis=1)\n",
    "C17 = pd.read_csv(r\"../data/inputData/calm_0017.csv\")\n",
    "C17 = C17.drop(['Unnamed: 0'],axis=1)\n",
    "C19 = pd.read_csv(r\"../data/inputData/calm_0019.csv\")\n",
    "C19 = C19.drop(['Unnamed: 0'],axis=1)\n",
    "C20 = pd.read_csv(r\"../data/inputData/calm_0020.csv\")\n",
    "C20 = C20.drop(['Unnamed: 0'],axis=1)\n",
    "C21 = pd.read_csv(r\"../data/inputData/calm_0021.csv\")\n",
    "C21 = C21.drop(['Unnamed: 0'],axis=1)\n",
    "C22 = pd.read_csv(r\"../data/inputData/calm_0022.csv\")\n",
    "C22 = C22.drop(['Unnamed: 0'],axis=1)\n",
    "C23 = pd.read_csv(r\"../data/inputData/calm_0023.csv\")\n",
    "C23 = C23.drop(['Unnamed: 0'],axis=1)\n",
    "C24 = pd.read_csv(r\"../data/inputData/calm_0024.csv\")\n",
    "C24 = C24.drop(['Unnamed: 0'],axis=1)\n",
    "C25 = pd.read_csv(r\"../data/inputData/calm_0025.csv\")\n",
    "C25 = C25.drop(['Unnamed: 0'],axis=1)\n",
    "C26 = pd.read_csv(r\"../data/inputData/calm_0026.csv\")\n",
    "C26 = C26.drop(['Unnamed: 0'],axis=1)\n",
    "C27 = pd.read_csv(r\"../data/inputData/calm_0027.csv\")\n",
    "C27 = C27.drop(['Unnamed: 0'],axis=1)\n",
    "\n",
    "N28 = pd.read_csv(r\"../data/inputData/normal_0028.csv\")\n",
    "N28 = N28.drop(['Unnamed: 0'],axis=1)\n",
    "N29 = pd.read_csv(r\"../data/inputData/normal_0029.csv\")\n",
    "N29 = N29.drop(['Unnamed: 0'],axis=1)\n",
    "N30 = pd.read_csv(r\"../data/inputData/normal_0030.csv\")\n",
    "N30 = N30.drop(['Unnamed: 0'],axis=1)\n",
    "N31 = pd.read_csv(r\"../data/inputData/normal_0031.csv\")\n",
    "N31 = N31.drop(['Unnamed: 0'],axis=1)\n",
    "N32 = pd.read_csv(r\"../data/inputData/normal_0032.csv\")\n",
    "N32 = N32.drop(['Unnamed: 0'],axis=1)\n",
    "N33 = pd.read_csv(r\"../data/inputData/normal_0033.csv\")\n",
    "N33 = N33.drop(['Unnamed: 0'],axis=1)\n",
    "N34 = pd.read_csv(r\"../data/inputData/normal_0034.csv\")\n",
    "N34 = N34.drop(['Unnamed: 0'],axis=1)\n",
    "N35 = pd.read_csv(r\"../data/inputData/normal_0035.csv\")\n",
    "N35 = N35.drop(['Unnamed: 0'],axis=1)\n",
    "N36 = pd.read_csv(r\"../data/inputData/normal_0036.csv\")\n",
    "N36 = N36.drop(['Unnamed: 0'],axis=1)\n",
    "N37 = pd.read_csv(r\"../data/inputData/normal_0037.csv\")\n",
    "N37 = N37.drop(['Unnamed: 0'],axis=1)"
   ]
  },
  {
   "cell_type": "code",
   "execution_count": 4,
   "metadata": {},
   "outputs": [],
   "source": [
    "# Adding column to every data set as indication of labels\n",
    "# 1 as Calm\n",
    "C16['Y'] = 1\n",
    "C17['Y'] = 1\n",
    "C19['Y'] = 1\n",
    "C20['Y'] = 1\n",
    "C21['Y'] = 1\n",
    "C22['Y'] = 1\n",
    "C23['Y'] = 1\n",
    "C24['Y'] = 1\n",
    "C25['Y'] = 1\n",
    "C26['Y'] = 1\n",
    "C27['Y'] = 1\n",
    "\n",
    "# 2 as Normal\n",
    "N28['Y'] = 2\n",
    "N29['Y'] = 2\n",
    "N30['Y'] = 2\n",
    "N31['Y'] = 2\n",
    "N32['Y'] = 2\n",
    "N33['Y'] = 2\n",
    "N34['Y'] = 2\n",
    "N35['Y'] = 2\n",
    "N36['Y'] = 2\n",
    "N37['Y'] = 2\n",
    "\n",
    "# 3 as Aggressive\n",
    "A38['Y'] = 3\n",
    "A39['Y'] = 3\n",
    "A40['Y'] = 3\n",
    "A41['Y'] = 3\n",
    "A42['Y'] = 3\n",
    "A43['Y'] = 3\n",
    "A44['Y'] = 3\n",
    "A45['Y'] = 3\n",
    "A46['Y'] = 3\n",
    "A47['Y'] = 3"
   ]
  },
  {
   "attachments": {},
   "cell_type": "markdown",
   "metadata": {},
   "source": [
    "## Euclidean Distance"
   ]
  },
  {
   "cell_type": "code",
   "execution_count": 5,
   "metadata": {},
   "outputs": [],
   "source": [
    "def euclideanDistance(df):\n",
    "    \"\"\"\n",
    "    This function converts Accel_X, Accel_Y and Accel_Z colmun to an euclidean column as per euclidean Distance formula.\n",
    "    parma df: Input as DataFrame.\n",
    "    type df: pandas dataframe\n",
    "    return df: output as DataFrame including euclidean column.\n",
    "    type df: pandas dataframe\n",
    "    \"\"\"\n",
    "    D = []\n",
    "    for i in range(len(df)-1):\n",
    "        D.append((((df.Accel_X[i+1]- df.Accel_X[i])**2 )+((df.Accel_Y[i+1]- df.Accel_Y[i])**2 )+((df.Accel_Z[i+1]- df.Accel_Z[i])**2 )).round(4))\n",
    "    D.append(0)\n",
    "    df['euclidean'] = D\n",
    "    return df\n"
   ]
  },
  {
   "cell_type": "code",
   "execution_count": 6,
   "metadata": {},
   "outputs": [],
   "source": [
    "C16 = euclideanDistance(C16)\n",
    "C17 = euclideanDistance(C17)\n",
    "C19 = euclideanDistance(C19)\n",
    "C20 = euclideanDistance(C20)\n",
    "C21 = euclideanDistance(C21)\n",
    "C22 = euclideanDistance(C22)\n",
    "C23 = euclideanDistance(C23)\n",
    "C24 = euclideanDistance(C24)\n",
    "C25 = euclideanDistance(C25)\n",
    "C26 = euclideanDistance(C26)\n",
    "C27 = euclideanDistance(C27)\n",
    "\n",
    "N28 = euclideanDistance(N28)\n",
    "N29 = euclideanDistance(N29)\n",
    "N30 = euclideanDistance(N30)\n",
    "N31 = euclideanDistance(N31)\n",
    "N32 = euclideanDistance(N32)\n",
    "N33 = euclideanDistance(N33)\n",
    "N34 = euclideanDistance(N34)\n",
    "N35 = euclideanDistance(N35)\n",
    "N36 = euclideanDistance(N36)\n",
    "N37 = euclideanDistance(N37)\n",
    "\n",
    "A38 = euclideanDistance(A38)\n",
    "A39 = euclideanDistance(A39)\n",
    "A40 = euclideanDistance(A40)\n",
    "A41 = euclideanDistance(A41)\n",
    "A42 = euclideanDistance(A42)\n",
    "A43 = euclideanDistance(A43)\n",
    "A44 = euclideanDistance(A44)\n",
    "A45 = euclideanDistance(A45)\n",
    "A46 = euclideanDistance(A46)\n",
    "A47 = euclideanDistance(A47)"
   ]
  },
  {
   "attachments": {},
   "cell_type": "markdown",
   "metadata": {},
   "source": [
    "## Spliting data set in train and test:"
   ]
  },
  {
   "cell_type": "code",
   "execution_count": 7,
   "metadata": {},
   "outputs": [],
   "source": [
    "# Separeting Test data set \n",
    "testDataSet = pd.concat([C22,C25,N31,N36,A41,A45],axis=0)\n",
    "# Concatnating all the remaning data set which are used for trainning and validation\n",
    "dataSet = pd.concat([C16,C17,C19,C20,C21,C23,C24,C26,C27,N28,N29,N30,N32,N33,N34,N35,N37,A38,A39,A40,A42,A43,A44,A46,A47],axis=0)\n",
    "dataSet.drop(columns=['RealTime'],inplace=True)\n"
   ]
  },
  {
   "cell_type": "code",
   "execution_count": 8,
   "metadata": {},
   "outputs": [
    {
     "data": {
      "text/html": [
       "<div>\n",
       "<style scoped>\n",
       "    .dataframe tbody tr th:only-of-type {\n",
       "        vertical-align: middle;\n",
       "    }\n",
       "\n",
       "    .dataframe tbody tr th {\n",
       "        vertical-align: top;\n",
       "    }\n",
       "\n",
       "    .dataframe thead th {\n",
       "        text-align: right;\n",
       "    }\n",
       "</style>\n",
       "<table border=\"1\" class=\"dataframe\">\n",
       "  <thead>\n",
       "    <tr style=\"text-align: right;\">\n",
       "      <th></th>\n",
       "      <th>LineNumber</th>\n",
       "      <th>Accel_X</th>\n",
       "      <th>Accel_Y</th>\n",
       "      <th>Accel_Z</th>\n",
       "      <th>Velocity</th>\n",
       "      <th>Label</th>\n",
       "      <th>Y</th>\n",
       "      <th>euclidean</th>\n",
       "    </tr>\n",
       "  </thead>\n",
       "  <tbody>\n",
       "    <tr>\n",
       "      <th>0</th>\n",
       "      <td>36</td>\n",
       "      <td>0.25</td>\n",
       "      <td>-0.43</td>\n",
       "      <td>0.39</td>\n",
       "      <td>0.0</td>\n",
       "      <td>0</td>\n",
       "      <td>1</td>\n",
       "      <td>0.5330</td>\n",
       "    </tr>\n",
       "    <tr>\n",
       "      <th>1</th>\n",
       "      <td>56</td>\n",
       "      <td>0.21</td>\n",
       "      <td>-0.10</td>\n",
       "      <td>-0.26</td>\n",
       "      <td>0.0</td>\n",
       "      <td>0</td>\n",
       "      <td>1</td>\n",
       "      <td>0.1826</td>\n",
       "    </tr>\n",
       "    <tr>\n",
       "      <th>2</th>\n",
       "      <td>80</td>\n",
       "      <td>-0.16</td>\n",
       "      <td>0.11</td>\n",
       "      <td>-0.30</td>\n",
       "      <td>0.0</td>\n",
       "      <td>0</td>\n",
       "      <td>1</td>\n",
       "      <td>0.1505</td>\n",
       "    </tr>\n",
       "    <tr>\n",
       "      <th>3</th>\n",
       "      <td>100</td>\n",
       "      <td>0.17</td>\n",
       "      <td>-0.09</td>\n",
       "      <td>-0.26</td>\n",
       "      <td>0.0</td>\n",
       "      <td>0</td>\n",
       "      <td>1</td>\n",
       "      <td>0.0406</td>\n",
       "    </tr>\n",
       "    <tr>\n",
       "      <th>4</th>\n",
       "      <td>120</td>\n",
       "      <td>0.20</td>\n",
       "      <td>0.10</td>\n",
       "      <td>-0.32</td>\n",
       "      <td>0.0</td>\n",
       "      <td>0</td>\n",
       "      <td>1</td>\n",
       "      <td>0.3779</td>\n",
       "    </tr>\n",
       "  </tbody>\n",
       "</table>\n",
       "</div>"
      ],
      "text/plain": [
       "   LineNumber  Accel_X  Accel_Y  Accel_Z  Velocity  Label  Y  euclidean\n",
       "0          36     0.25    -0.43     0.39       0.0      0  1     0.5330\n",
       "1          56     0.21    -0.10    -0.26       0.0      0  1     0.1826\n",
       "2          80    -0.16     0.11    -0.30       0.0      0  1     0.1505\n",
       "3         100     0.17    -0.09    -0.26       0.0      0  1     0.0406\n",
       "4         120     0.20     0.10    -0.32       0.0      0  1     0.3779"
      ]
     },
     "execution_count": 8,
     "metadata": {},
     "output_type": "execute_result"
    }
   ],
   "source": [
    "dataSet.head(5)"
   ]
  },
  {
   "cell_type": "code",
   "execution_count": 9,
   "metadata": {},
   "outputs": [],
   "source": [
    "dataY = dataSet.pop('Y')\n",
    "dataX = dataSet.copy()\n",
    "# Treditional train_test_split\n",
    "xTrain, xVali, yTrain, yVali = train_test_split(dataX,\n",
    "                                dataY, \n",
    "                                test_size=0.2, \n",
    "                                random_state=42, \n",
    "                                stratify=dataY)"
   ]
  },
  {
   "attachments": {},
   "cell_type": "markdown",
   "metadata": {},
   "source": [
    "## Model Trainning and Testing"
   ]
  },
  {
   "attachments": {},
   "cell_type": "markdown",
   "metadata": {},
   "source": [
    "### SVC() "
   ]
  },
  {
   "cell_type": "code",
   "execution_count": 10,
   "metadata": {},
   "outputs": [],
   "source": [
    "modelSVC = SVC()\n",
    "# cross_val_score(modelSVC,xTrain,yTrain,cv=10).mean()"
   ]
  },
  {
   "cell_type": "code",
   "execution_count": 11,
   "metadata": {},
   "outputs": [
    {
     "name": "stdout",
     "output_type": "stream",
     "text": [
      "The accuracy score of the SVC model is: 42.98\n"
     ]
    }
   ],
   "source": [
    "modelSVC.fit(xTrain,yTrain)\n",
    "predictedSVC = modelSVC.predict(xVali)\n",
    "print(f\"The accuracy score of the SVC model is: {(metrics.accuracy_score(yVali,predictedSVC)*100).round(3)}\")"
   ]
  },
  {
   "cell_type": "code",
   "execution_count": 12,
   "metadata": {},
   "outputs": [
    {
     "name": "stdout",
     "output_type": "stream",
     "text": [
      "Predicted Value of the Calm 0022 is :[1]\n",
      "Predicted Value of the Calm 0025 is :[1]\n",
      "Predicted Value of the Normal 0031 is :[1]\n",
      "Predicted Value of the Normal 0036 is :[1]\n",
      "Predicted Value of the Aggressive 0041 is :[1]\n",
      "Predicted Value of the Aggressive 0045 is :[1]\n"
     ]
    }
   ],
   "source": [
    "pC22 = C22.drop(columns=['RealTime','Y'])\n",
    "pc22 = modelSVC.predict(pC22)\n",
    "modeC22 = stats.mode(pc22)\n",
    "pC25 = C25.drop(columns=['RealTime','Y'])\n",
    "pc25C25 = modelSVC.predict(pC25)\n",
    "modeC25 = stats.mode(pc25C25)\n",
    "print(f\"Predicted Value of the Calm 0022 is :{modeC22.mode}\")\n",
    "print(f\"Predicted Value of the Calm 0025 is :{modeC25.mode}\")\n",
    "pN31 = N31.drop(columns=['RealTime','Y'])\n",
    "pn31 = modelSVC.predict(pN31)\n",
    "modeN31 = stats.mode(pn31)\n",
    "pN36 = N36.drop(columns=['RealTime','Y'])\n",
    "pn36 = modelSVC.predict(pN36)\n",
    "modeN36 = stats.mode(pn36)\n",
    "print(f\"Predicted Value of the Normal 0031 is :{modeN31.mode}\")\n",
    "print(f\"Predicted Value of the Normal 0036 is :{modeN36.mode}\")\n",
    "pA41 = A41.drop(columns=['RealTime','Y'])\n",
    "pa41 = modelSVC.predict(pA41)\n",
    "modeA41 = stats.mode(pa41)\n",
    "pA45 = A45.drop(columns=['RealTime','Y'])\n",
    "pa45 = modelSVC.predict(pA45)\n",
    "modeA45 = stats.mode(pa45)\n",
    "print(f\"Predicted Value of the Aggressive 0041 is :{modeA41.mode}\")\n",
    "print(f\"Predicted Value of the Aggressive 0045 is :{modeA45.mode}\")"
   ]
  },
  {
   "cell_type": "code",
   "execution_count": 13,
   "metadata": {},
   "outputs": [
    {
     "data": {
      "image/png": "[encoded data removed]",
      "text/plain": [
       "<Figure size 640x480 with 2 Axes>"
      ]
     },
     "metadata": {},
     "output_type": "display_data"
    }
   ],
   "source": [
    "mat = metrics.confusion_matrix(yVali,predictedSVC)\n",
    "sns.heatmap(mat.T,square=True,annot=True)\n",
    "plt.xlabel('Y Validation DataSet')\n",
    "plt.ylabel('Predicted DataSet')\n",
    "plt.show()"
   ]
  },
  {
   "attachments": {},
   "cell_type": "markdown",
   "metadata": {},
   "source": [
    "### DecisionTreeClassifier() "
   ]
  },
  {
   "cell_type": "code",
   "execution_count": 14,
   "metadata": {},
   "outputs": [
    {
     "data": {
      "text/plain": [
       "0.9203682288773753"
      ]
     },
     "execution_count": 14,
     "metadata": {},
     "output_type": "execute_result"
    }
   ],
   "source": [
    "modelTree = DecisionTreeClassifier()\n",
    "cross_val_score(modelTree,dataX,dataY,cv=10).mean()"
   ]
  },
  {
   "cell_type": "code",
   "execution_count": 15,
   "metadata": {},
   "outputs": [
    {
     "data": {
      "text/html": [
       "<style>#sk-container-id-1 {color: black;background-color: white;}#sk-container-id-1 pre{padding: 0;}#sk-container-id-1 div.sk-toggleable {background-color: white;}#sk-container-id-1 label.sk-toggleable__label {cursor: pointer;display: block;width: 100%;margin-bottom: 0;padding: 0.3em;box-sizing: border-box;text-align: center;}#sk-container-id-1 label.sk-toggleable__label-arrow:before {content: \"▸\";float: left;margin-right: 0.25em;color: #696969;}#sk-container-id-1 label.sk-toggleable__label-arrow:hover:before {color: black;}#sk-container-id-1 div.sk-estimator:hover label.sk-toggleable__label-arrow:before {color: black;}#sk-container-id-1 div.sk-toggleable__content {max-height: 0;max-width: 0;overflow: hidden;text-align: left;background-color: #f0f8ff;}#sk-container-id-1 div.sk-toggleable__content pre {margin: 0.2em;color: black;border-radius: 0.25em;background-color: #f0f8ff;}#sk-container-id-1 input.sk-toggleable__control:checked~div.sk-toggleable__content {max-height: 200px;max-width: 100%;overflow: auto;}#sk-container-id-1 input.sk-toggleable__control:checked~label.sk-toggleable__label-arrow:before {content: \"▾\";}#sk-container-id-1 div.sk-estimator input.sk-toggleable__control:checked~label.sk-toggleable__label {background-color: #d4ebff;}#sk-container-id-1 div.sk-label input.sk-toggleable__control:checked~label.sk-toggleable__label {background-color: #d4ebff;}#sk-container-id-1 input.sk-hidden--visually {border: 0;clip: rect(1px 1px 1px 1px);clip: rect(1px, 1px, 1px, 1px);height: 1px;margin: -1px;overflow: hidden;padding: 0;position: absolute;width: 1px;}#sk-container-id-1 div.sk-estimator {font-family: monospace;background-color: #f0f8ff;border: 1px dotted black;border-radius: 0.25em;box-sizing: border-box;margin-bottom: 0.5em;}#sk-container-id-1 div.sk-estimator:hover {background-color: #d4ebff;}#sk-container-id-1 div.sk-parallel-item::after {content: \"\";width: 100%;border-bottom: 1px solid gray;flex-grow: 1;}#sk-container-id-1 div.sk-label:hover label.sk-toggleable__label {background-color: #d4ebff;}#sk-container-id-1 div.sk-serial::before {content: \"\";position: absolute;border-left: 1px solid gray;box-sizing: border-box;top: 0;bottom: 0;left: 50%;z-index: 0;}#sk-container-id-1 div.sk-serial {display: flex;flex-direction: column;align-items: center;background-color: white;padding-right: 0.2em;padding-left: 0.2em;position: relative;}#sk-container-id-1 div.sk-item {position: relative;z-index: 1;}#sk-container-id-1 div.sk-parallel {display: flex;align-items: stretch;justify-content: center;background-color: white;position: relative;}#sk-container-id-1 div.sk-item::before, #sk-container-id-1 div.sk-parallel-item::before {content: \"\";position: absolute;border-left: 1px solid gray;box-sizing: border-box;top: 0;bottom: 0;left: 50%;z-index: -1;}#sk-container-id-1 div.sk-parallel-item {display: flex;flex-direction: column;z-index: 1;position: relative;background-color: white;}#sk-container-id-1 div.sk-parallel-item:first-child::after {align-self: flex-end;width: 50%;}#sk-container-id-1 div.sk-parallel-item:last-child::after {align-self: flex-start;width: 50%;}#sk-container-id-1 div.sk-parallel-item:only-child::after {width: 0;}#sk-container-id-1 div.sk-dashed-wrapped {border: 1px dashed gray;margin: 0 0.4em 0.5em 0.4em;box-sizing: border-box;padding-bottom: 0.4em;background-color: white;}#sk-container-id-1 div.sk-label label {font-family: monospace;font-weight: bold;display: inline-block;line-height: 1.2em;}#sk-container-id-1 div.sk-label-container {text-align: center;}#sk-container-id-1 div.sk-container {/* jupyter's `normalize.less` sets `[hidden] { display: none; }` but bootstrap.min.css set `[hidden] { display: none !important; }` so we also need the `!important` here to be able to override the default hidden behavior on the sphinx rendered scikit-learn.org. See: https://github.com/scikit-learn/scikit-learn/issues/21755 */display: inline-block !important;position: relative;}#sk-container-id-1 div.sk-text-repr-fallback {display: none;}</style><div id=\"sk-container-id-1\" class=\"sk-top-container\"><div class=\"sk-text-repr-fallback\"><pre>DecisionTreeClassifier()</pre><b>In a Jupyter environment, please rerun this cell to show the HTML representation or trust the notebook. <br />On GitHub, the HTML representation is unable to render, please try loading this page with nbviewer.org.</b></div><div class=\"sk-container\" hidden><div class=\"sk-item\"><div class=\"sk-estimator sk-toggleable\"><input class=\"sk-toggleable__control sk-hidden--visually\" id=\"sk-estimator-id-1\" type=\"checkbox\" checked><label for=\"sk-estimator-id-1\" class=\"sk-toggleable__label sk-toggleable__label-arrow\">DecisionTreeClassifier</label><div class=\"sk-toggleable__content\"><pre>DecisionTreeClassifier()</pre></div></div></div></div></div>"
      ],
      "text/plain": [
       "DecisionTreeClassifier()"
      ]
     },
     "execution_count": 15,
     "metadata": {},
     "output_type": "execute_result"
    }
   ],
   "source": [
    "modelTree.fit(dataX,dataY)"
   ]
  },
  {
   "cell_type": "code",
   "execution_count": 16,
   "metadata": {},
   "outputs": [
    {
     "name": "stdout",
     "output_type": "stream",
     "text": [
      "The accuracy score of the Tree model is: 100.0\n"
     ]
    }
   ],
   "source": [
    "predictedTree = modelTree.predict(xVali)\n",
    "print(f\"The accuracy score of the Tree model is: {(metrics.accuracy_score(yVali,predictedTree)*100).round(3)}\")"
   ]
  },
  {
   "cell_type": "code",
   "execution_count": 17,
   "metadata": {},
   "outputs": [
    {
     "name": "stdout",
     "output_type": "stream",
     "text": [
      "Predicted Value of the Calm 0022 is :[1]\n",
      "Predicted Value of the Calm 0025 is :[1]\n",
      "Predicted Value of the Normal 0031 is :[2]\n",
      "Predicted Value of the Normal 0036 is :[2]\n",
      "Predicted Value of the Aggressive 0041 is :[3]\n",
      "Predicted Value of the Aggressive 0045 is :[3]\n"
     ]
    }
   ],
   "source": [
    "pC22 = C22.drop(columns=['RealTime','Y'])\n",
    "pc22 = modelTree.predict(pC22)\n",
    "modeC22 = stats.mode(pc22)\n",
    "pC25 = C25.drop(columns=['RealTime','Y'])\n",
    "pc25C25 = modelTree.predict(pC25)\n",
    "modeC25 = stats.mode(pc25C25)\n",
    "print(f\"Predicted Value of the Calm 0022 is :{modeC22.mode}\")\n",
    "print(f\"Predicted Value of the Calm 0025 is :{modeC25.mode}\")\n",
    "pN31 = N31.drop(columns=['RealTime','Y'])\n",
    "pn31 = modelTree.predict(pN31)\n",
    "modeN31 = stats.mode(pn31)\n",
    "pN36 = N36.drop(columns=['RealTime','Y'])\n",
    "pn36 = modelTree.predict(pN36)\n",
    "modeN36 = stats.mode(pn36)\n",
    "print(f\"Predicted Value of the Normal 0031 is :{modeN31.mode}\")\n",
    "print(f\"Predicted Value of the Normal 0036 is :{modeN36.mode}\")\n",
    "pA41 = A41.drop(columns=['RealTime','Y'])\n",
    "pa41 = modelTree.predict(pA41)\n",
    "modeA41 = stats.mode(pa41)\n",
    "pA45 = A45.drop(columns=['RealTime','Y'])\n",
    "pa45 = modelTree.predict(pA45)\n",
    "modeA45 = stats.mode(pa45)\n",
    "print(f\"Predicted Value of the Aggressive 0041 is :{modeA41.mode}\")\n",
    "print(f\"Predicted Value of the Aggressive 0045 is :{modeA45.mode}\")"
   ]
  },
  {
   "cell_type": "code",
   "execution_count": 18,
   "metadata": {},
   "outputs": [
    {
     "data": {
      "image/png": "[encoded data removed]",
      "text/plain": [
       "<Figure size 640x480 with 2 Axes>"
      ]
     },
     "metadata": {},
     "output_type": "display_data"
    }
   ],
   "source": [
    "mat = metrics.confusion_matrix(yVali,predictedTree)\n",
    "sns.heatmap(mat.T,square=True,annot=True)\n",
    "plt.xlabel('Y Validation DataSet')\n",
    "plt.ylabel('Predicted DataSet')\n",
    "plt.show()"
   ]
  },
  {
   "attachments": {},
   "cell_type": "markdown",
   "metadata": {},
   "source": [
    "### Random forest"
   ]
  },
  {
   "cell_type": "code",
   "execution_count": 19,
   "metadata": {},
   "outputs": [],
   "source": [
    "modelRandom = RandomForestClassifier(\n",
    "    n_estimators=100,\n",
    "    oob_score=True,\n",
    "    random_state=10\n",
    ")"
   ]
  },
  {
   "cell_type": "code",
   "execution_count": 20,
   "metadata": {},
   "outputs": [
    {
     "data": {
      "text/plain": [
       "0.926158303209103"
      ]
     },
     "execution_count": 20,
     "metadata": {},
     "output_type": "execute_result"
    }
   ],
   "source": [
    "cross_val_score(modelRandom,dataX,dataY,cv=10).mean()"
   ]
  },
  {
   "cell_type": "code",
   "execution_count": 21,
   "metadata": {},
   "outputs": [
    {
     "data": {
      "text/html": [
       "<style>#sk-container-id-2 {color: black;background-color: white;}#sk-container-id-2 pre{padding: 0;}#sk-container-id-2 div.sk-toggleable {background-color: white;}#sk-container-id-2 label.sk-toggleable__label {cursor: pointer;display: block;width: 100%;margin-bottom: 0;padding: 0.3em;box-sizing: border-box;text-align: center;}#sk-container-id-2 label.sk-toggleable__label-arrow:before {content: \"▸\";float: left;margin-right: 0.25em;color: #696969;}#sk-container-id-2 label.sk-toggleable__label-arrow:hover:before {color: black;}#sk-container-id-2 div.sk-estimator:hover label.sk-toggleable__label-arrow:before {color: black;}#sk-container-id-2 div.sk-toggleable__content {max-height: 0;max-width: 0;overflow: hidden;text-align: left;background-color: #f0f8ff;}#sk-container-id-2 div.sk-toggleable__content pre {margin: 0.2em;color: black;border-radius: 0.25em;background-color: #f0f8ff;}#sk-container-id-2 input.sk-toggleable__control:checked~div.sk-toggleable__content {max-height: 200px;max-width: 100%;overflow: auto;}#sk-container-id-2 input.sk-toggleable__control:checked~label.sk-toggleable__label-arrow:before {content: \"▾\";}#sk-container-id-2 div.sk-estimator input.sk-toggleable__control:checked~label.sk-toggleable__label {background-color: #d4ebff;}#sk-container-id-2 div.sk-label input.sk-toggleable__control:checked~label.sk-toggleable__label {background-color: #d4ebff;}#sk-container-id-2 input.sk-hidden--visually {border: 0;clip: rect(1px 1px 1px 1px);clip: rect(1px, 1px, 1px, 1px);height: 1px;margin: -1px;overflow: hidden;padding: 0;position: absolute;width: 1px;}#sk-container-id-2 div.sk-estimator {font-family: monospace;background-color: #f0f8ff;border: 1px dotted black;border-radius: 0.25em;box-sizing: border-box;margin-bottom: 0.5em;}#sk-container-id-2 div.sk-estimator:hover {background-color: #d4ebff;}#sk-container-id-2 div.sk-parallel-item::after {content: \"\";width: 100%;border-bottom: 1px solid gray;flex-grow: 1;}#sk-container-id-2 div.sk-label:hover label.sk-toggleable__label {background-color: #d4ebff;}#sk-container-id-2 div.sk-serial::before {content: \"\";position: absolute;border-left: 1px solid gray;box-sizing: border-box;top: 0;bottom: 0;left: 50%;z-index: 0;}#sk-container-id-2 div.sk-serial {display: flex;flex-direction: column;align-items: center;background-color: white;padding-right: 0.2em;padding-left: 0.2em;position: relative;}#sk-container-id-2 div.sk-item {position: relative;z-index: 1;}#sk-container-id-2 div.sk-parallel {display: flex;align-items: stretch;justify-content: center;background-color: white;position: relative;}#sk-container-id-2 div.sk-item::before, #sk-container-id-2 div.sk-parallel-item::before {content: \"\";position: absolute;border-left: 1px solid gray;box-sizing: border-box;top: 0;bottom: 0;left: 50%;z-index: -1;}#sk-container-id-2 div.sk-parallel-item {display: flex;flex-direction: column;z-index: 1;position: relative;background-color: white;}#sk-container-id-2 div.sk-parallel-item:first-child::after {align-self: flex-end;width: 50%;}#sk-container-id-2 div.sk-parallel-item:last-child::after {align-self: flex-start;width: 50%;}#sk-container-id-2 div.sk-parallel-item:only-child::after {width: 0;}#sk-container-id-2 div.sk-dashed-wrapped {border: 1px dashed gray;margin: 0 0.4em 0.5em 0.4em;box-sizing: border-box;padding-bottom: 0.4em;background-color: white;}#sk-container-id-2 div.sk-label label {font-family: monospace;font-weight: bold;display: inline-block;line-height: 1.2em;}#sk-container-id-2 div.sk-label-container {text-align: center;}#sk-container-id-2 div.sk-container {/* jupyter's `normalize.less` sets `[hidden] { display: none; }` but bootstrap.min.css set `[hidden] { display: none !important; }` so we also need the `!important` here to be able to override the default hidden behavior on the sphinx rendered scikit-learn.org. See: https://github.com/scikit-learn/scikit-learn/issues/21755 */display: inline-block !important;position: relative;}#sk-container-id-2 div.sk-text-repr-fallback {display: none;}</style><div id=\"sk-container-id-2\" class=\"sk-top-container\"><div class=\"sk-text-repr-fallback\"><pre>RandomForestClassifier(oob_score=True, random_state=10)</pre><b>In a Jupyter environment, please rerun this cell to show the HTML representation or trust the notebook. <br />On GitHub, the HTML representation is unable to render, please try loading this page with nbviewer.org.</b></div><div class=\"sk-container\" hidden><div class=\"sk-item\"><div class=\"sk-estimator sk-toggleable\"><input class=\"sk-toggleable__control sk-hidden--visually\" id=\"sk-estimator-id-2\" type=\"checkbox\" checked><label for=\"sk-estimator-id-2\" class=\"sk-toggleable__label sk-toggleable__label-arrow\">RandomForestClassifier</label><div class=\"sk-toggleable__content\"><pre>RandomForestClassifier(oob_score=True, random_state=10)</pre></div></div></div></div></div>"
      ],
      "text/plain": [
       "RandomForestClassifier(oob_score=True, random_state=10)"
      ]
     },
     "execution_count": 21,
     "metadata": {},
     "output_type": "execute_result"
    }
   ],
   "source": [
    "modelRandom.fit(xTrain,yTrain)"
   ]
  },
  {
   "cell_type": "code",
   "execution_count": 22,
   "metadata": {},
   "outputs": [
    {
     "name": "stdout",
     "output_type": "stream",
     "text": [
      "The accuracy score of the Random model is: 97.229\n"
     ]
    }
   ],
   "source": [
    "predictedRandom = modelRandom.predict(xVali)\n",
    "print(f\"The accuracy score of the Random model is: {(metrics.accuracy_score(yVali,predictedRandom)*100).round(3)}\")"
   ]
  },
  {
   "cell_type": "code",
   "execution_count": 23,
   "metadata": {},
   "outputs": [
    {
     "name": "stdout",
     "output_type": "stream",
     "text": [
      "Predicted Value of the Calm 0022 is :[1]\n",
      "Predicted Value of the Calm 0025 is :[1]\n",
      "Predicted Value of the Normal 0031 is :[2]\n",
      "Predicted Value of the Normal 0036 is :[2]\n",
      "Predicted Value of the Aggressive 0041 is :[3]\n",
      "Predicted Value of the Aggressive 0045 is :[3]\n"
     ]
    }
   ],
   "source": [
    "pC22 = C22.drop(columns=['RealTime','Y'])\n",
    "pc22 = modelRandom.predict(pC22)\n",
    "modeC22 = stats.mode(pc22)\n",
    "pC25 = C25.drop(columns=['RealTime','Y'])\n",
    "pc25C25 = modelRandom.predict(pC25)\n",
    "modeC25 = stats.mode(pc25C25)\n",
    "print(f\"Predicted Value of the Calm 0022 is :{modeC22.mode}\")\n",
    "print(f\"Predicted Value of the Calm 0025 is :{modeC25.mode}\")\n",
    "pN31 = N31.drop(columns=['RealTime','Y'])\n",
    "pn31 = modelRandom.predict(pN31)\n",
    "modeN31 = stats.mode(pn31)\n",
    "pN36 = N36.drop(columns=['RealTime','Y'])\n",
    "pn36 = modelRandom.predict(pN36)\n",
    "modeN36 = stats.mode(pn36)\n",
    "print(f\"Predicted Value of the Normal 0031 is :{modeN31.mode}\")\n",
    "print(f\"Predicted Value of the Normal 0036 is :{modeN36.mode}\")\n",
    "pA41 = A41.drop(columns=['RealTime','Y'])\n",
    "pa41 = modelRandom.predict(pA41)\n",
    "modeA41 = stats.mode(pa41)\n",
    "pA45 = A45.drop(columns=['RealTime','Y'])\n",
    "pa45 = modelRandom.predict(pA45)\n",
    "modeA45 = stats.mode(pa45)\n",
    "print(f\"Predicted Value of the Aggressive 0041 is :{modeA41.mode}\")\n",
    "print(f\"Predicted Value of the Aggressive 0045 is :{modeA45.mode}\")"
   ]
  },
  {
   "cell_type": "code",
   "execution_count": 24,
   "metadata": {},
   "outputs": [
    {
     "data": {
      "image/png": "[encoded data removed]",
      "text/plain": [
       "<Figure size 640x480 with 2 Axes>"
      ]
     },
     "metadata": {},
     "output_type": "display_data"
    }
   ],
   "source": [
    "mat = metrics.confusion_matrix(yVali,predictedRandom)\n",
    "sns.heatmap(mat.T,square=True,annot=True)\n",
    "plt.xlabel('Y Validation DataSet')\n",
    "plt.ylabel('Predicted DataSet')\n",
    "plt.show()"
   ]
  },
  {
   "attachments": {},
   "cell_type": "markdown",
   "metadata": {},
   "source": [
    "## Comparing all three models."
   ]
  },
  {
   "cell_type": "code",
   "execution_count": 25,
   "metadata": {},
   "outputs": [
    {
     "name": "stdout",
     "output_type": "stream",
     "text": [
      "Cross Validation Score of SVC : 0.42978135367848447\n",
      "Cross Validation Score of Decission Tree :0.9211069554343503\n",
      "Cross Validation Score of Random Forest :0.926158303209103\n"
     ]
    }
   ],
   "source": [
    "print(f\"Cross Validation Score of SVC : {cross_val_score(modelSVC,xTrain,yTrain,cv=10).mean()}\")\n",
    "print(f\"Cross Validation Score of Decission Tree :{cross_val_score(modelTree,dataX,dataY,cv=10).mean()}\")\n",
    "print(f\"Cross Validation Score of Random Forest :{cross_val_score(modelRandom,dataX,dataY,cv=10).mean()}\")"
   ]
  },
  {
   "cell_type": "code",
   "execution_count": 26,
   "metadata": {},
   "outputs": [
    {
     "name": "stdout",
     "output_type": "stream",
     "text": [
      "The accuracy score of the SVC model is: 42.98\n",
      "The accuracy score of the Tree model is: 100.0\n",
      "The accuracy score of the Random model is: 97.229\n"
     ]
    }
   ],
   "source": [
    "print(f\"The accuracy score of the SVC model is: {(metrics.accuracy_score(yVali,predictedSVC)*100).round(3)}\")\n",
    "print(f\"The accuracy score of the Tree model is: {(metrics.accuracy_score(yVali,predictedTree)*100).round(3)}\")\n",
    "print(f\"The accuracy score of the Random model is: {(metrics.accuracy_score(yVali,predictedRandom)*100).round(3)}\")"
   ]
  },
  {
   "cell_type": "code",
   "execution_count": 36,
   "metadata": {},
   "outputs": [
    {
     "name": "stdout",
     "output_type": "stream",
     "text": [
      "The precision score of the SVC model is: 18.473\n",
      "The precision score of the Tree model is: 100.0\n",
      "The precision score of the Random model is: 97.231\n"
     ]
    }
   ],
   "source": [
    "print(f\"The precision score of the SVC model is: {(metrics.precision_score(yVali,predictedSVC,average='weighted')*100).round(3)}\")\n",
    "print(f\"The precision score of the Tree model is: {(metrics.precision_score(yVali,predictedTree,average='weighted')*100).round(3)}\")\n",
    "print(f\"The precision score of the Random model is: {(metrics.precision_score(yVali,predictedRandom,average='weighted')*100).round(3)}\")"
   ]
  },
  {
   "cell_type": "code",
   "execution_count": 37,
   "metadata": {},
   "outputs": [
    {
     "name": "stdout",
     "output_type": "stream",
     "text": [
      "The recall score of the SVC model is: 42.98\n",
      "The recall score of the Tree model is: 100.0\n",
      "The recall score of the Random model is: 97.229\n"
     ]
    }
   ],
   "source": [
    "print(f\"The recall score of the SVC model is: {(metrics.recall_score(yVali,predictedSVC,average='weighted')*100).round(3)}\")\n",
    "print(f\"The recall score of the Tree model is: {(metrics.recall_score(yVali,predictedTree,average='weighted')*100).round(3)}\")\n",
    "print(f\"The recall score of the Random model is: {(metrics.recall_score(yVali,predictedRandom,average='weighted')*100).round(3)}\")"
   ]
  },
  {
   "cell_type": "code",
   "execution_count": 39,
   "metadata": {},
   "outputs": [
    {
     "name": "stdout",
     "output_type": "stream",
     "text": [
      "The f1 score of the SVC model is: 25.84\n",
      "The f1 score of the Tree model is: 100.0\n",
      "The f1 score of the Random model is: 97.228\n"
     ]
    }
   ],
   "source": [
    "print(f\"The f1 score of the SVC model is: {(metrics.f1_score(yVali,predictedSVC,average='weighted')*100).round(3)}\")\n",
    "print(f\"The f1 score of the Tree model is: {(metrics.f1_score(yVali,predictedTree,average='weighted')*100).round(3)}\")\n",
    "print(f\"The f1 score of the Random model is: {(metrics.f1_score(yVali,predictedRandom,average='weighted')*100).round(3)}\")"
   ]
  },
  {
   "cell_type": "code",
   "execution_count": null,
   "metadata": {},
   "outputs": [],
   "source": []
  }
 ],
 "metadata": {
  "kernelspec": {
   "display_name": "dataSciVenv",
   "language": "python",
   "name": "python3"
  },
  "language_info": {
   "codemirror_mode": {
    "name": "ipython",
    "version": 3
   },
   "file_extension": ".py",
   "mimetype": "text/x-python",
   "name": "python",
   "nbconvert_exporter": "python",
   "pygments_lexer": "ipython3",
   "version": "3.10.6"
  },
  "orig_nbformat": 4,
  "vscode": {
   "interpreter": {
    "hash": "857eddd86f680f6dceb0f1ece99a9c4245994ff63efc38b73de231779354f95d"
   }
  }
 },
 "nbformat": 4,
 "nbformat_minor": 2
}
